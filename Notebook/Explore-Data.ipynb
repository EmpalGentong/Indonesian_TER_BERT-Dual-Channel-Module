{
 "cells": [
  {
   "cell_type": "code",
   "execution_count": 1,
   "metadata": {},
   "outputs": [],
   "source": [
    "import pandas as pd"
   ]
  },
  {
   "cell_type": "code",
   "execution_count": 2,
   "metadata": {},
   "outputs": [],
   "source": [
    "textData = pd.read_csv('../Data/data-shuffled.csv')"
   ]
  },
  {
   "cell_type": "code",
   "execution_count": 3,
   "metadata": {},
   "outputs": [
    {
     "data": {
      "text/html": [
       "<div>\n",
       "<style scoped>\n",
       "    .dataframe tbody tr th:only-of-type {\n",
       "        vertical-align: middle;\n",
       "    }\n",
       "\n",
       "    .dataframe tbody tr th {\n",
       "        vertical-align: top;\n",
       "    }\n",
       "\n",
       "    .dataframe thead th {\n",
       "        text-align: right;\n",
       "    }\n",
       "</style>\n",
       "<table border=\"1\" class=\"dataframe\">\n",
       "  <thead>\n",
       "    <tr style=\"text-align: right;\">\n",
       "      <th></th>\n",
       "      <th>Tweet</th>\n",
       "      <th>Label</th>\n",
       "    </tr>\n",
       "  </thead>\n",
       "  <tbody>\n",
       "    <tr>\n",
       "      <th>0</th>\n",
       "      <td>huta suka banget robekin celana sih</td>\n",
       "      <td>Love</td>\n",
       "    </tr>\n",
       "    <tr>\n",
       "      <th>1</th>\n",
       "      <td>pakai akal sehat saja sebenarnya surah cukup k...</td>\n",
       "      <td>Neutral</td>\n",
       "    </tr>\n",
       "    <tr>\n",
       "      <th>2</th>\n",
       "      <td>bukan pens emyu namanye kalo gak ikut2an tolol</td>\n",
       "      <td>Anger</td>\n",
       "    </tr>\n",
       "    <tr>\n",
       "      <th>3</th>\n",
       "      <td>aku pernah, jadi nanti dikasih pertanyaan kamu...</td>\n",
       "      <td>Neutral</td>\n",
       "    </tr>\n",
       "    <tr>\n",
       "      <th>4</th>\n",
       "      <td>aduh bangsat ganteng banget lagi ni orang</td>\n",
       "      <td>Anger</td>\n",
       "    </tr>\n",
       "    <tr>\n",
       "      <th>5</th>\n",
       "      <td>aowkaowkaowkoakw semangat ayy</td>\n",
       "      <td>Joy</td>\n",
       "    </tr>\n",
       "    <tr>\n",
       "      <th>6</th>\n",
       "      <td>iya pasti lancar. fight! buka toko kue aja bia...</td>\n",
       "      <td>Joy</td>\n",
       "    </tr>\n",
       "    <tr>\n",
       "      <th>7</th>\n",
       "      <td>kan tolol enggak baca berita yang terdahulu ma...</td>\n",
       "      <td>Anger</td>\n",
       "    </tr>\n",
       "    <tr>\n",
       "      <th>8</th>\n",
       "      <td>cerah banget</td>\n",
       "      <td>Joy</td>\n",
       "    </tr>\n",
       "    <tr>\n",
       "      <th>9</th>\n",
       "      <td>huwa yenanya mami kok gemes sih marah aja sege...</td>\n",
       "      <td>Joy</td>\n",
       "    </tr>\n",
       "    <tr>\n",
       "      <th>10</th>\n",
       "      <td>aku lagi hari terakhir di bali, suwepi. udah k...</td>\n",
       "      <td>Neutral</td>\n",
       "    </tr>\n",
       "    <tr>\n",
       "      <th>11</th>\n",
       "      <td>ahahhah iya masama bayangin aja udah beli trus...</td>\n",
       "      <td>Fear</td>\n",
       "    </tr>\n",
       "    <tr>\n",
       "      <th>12</th>\n",
       "      <td>rumah sepi nihh</td>\n",
       "      <td>Sad</td>\n",
       "    </tr>\n",
       "    <tr>\n",
       "      <th>13</th>\n",
       "      <td>kebawa emosi</td>\n",
       "      <td>Anger</td>\n",
       "    </tr>\n",
       "    <tr>\n",
       "      <th>14</th>\n",
       "      <td>ngeri juga 5 quote gaib.</td>\n",
       "      <td>Fear</td>\n",
       "    </tr>\n",
       "    <tr>\n",
       "      <th>15</th>\n",
       "      <td>aku kurang tau kalo pesan yang kedua karena ju...</td>\n",
       "      <td>Neutral</td>\n",
       "    </tr>\n",
       "    <tr>\n",
       "      <th>16</th>\n",
       "      <td>iya kalo udah biasa kek gitu win makanya hrs d...</td>\n",
       "      <td>Neutral</td>\n",
       "    </tr>\n",
       "    <tr>\n",
       "      <th>17</th>\n",
       "      <td>tapi takut ketuaan juga di jalan ya kan wkwk w...</td>\n",
       "      <td>Fear</td>\n",
       "    </tr>\n",
       "    <tr>\n",
       "      <th>18</th>\n",
       "      <td>iyaa mau makan yang enak yang banyak</td>\n",
       "      <td>Joy</td>\n",
       "    </tr>\n",
       "    <tr>\n",
       "      <th>19</th>\n",
       "      <td>bahagia secukupnya, sedih seperlunya, mencinta...</td>\n",
       "      <td>Neutral</td>\n",
       "    </tr>\n",
       "  </tbody>\n",
       "</table>\n",
       "</div>"
      ],
      "text/plain": [
       "                                                Tweet    Label\n",
       "0                 huta suka banget robekin celana sih     Love\n",
       "1   pakai akal sehat saja sebenarnya surah cukup k...  Neutral\n",
       "2      bukan pens emyu namanye kalo gak ikut2an tolol    Anger\n",
       "3   aku pernah, jadi nanti dikasih pertanyaan kamu...  Neutral\n",
       "4           aduh bangsat ganteng banget lagi ni orang    Anger\n",
       "5                       aowkaowkaowkoakw semangat ayy      Joy\n",
       "6   iya pasti lancar. fight! buka toko kue aja bia...      Joy\n",
       "7   kan tolol enggak baca berita yang terdahulu ma...    Anger\n",
       "8                                        cerah banget      Joy\n",
       "9   huwa yenanya mami kok gemes sih marah aja sege...      Joy\n",
       "10  aku lagi hari terakhir di bali, suwepi. udah k...  Neutral\n",
       "11  ahahhah iya masama bayangin aja udah beli trus...     Fear\n",
       "12                                    rumah sepi nihh      Sad\n",
       "13                                       kebawa emosi    Anger\n",
       "14                           ngeri juga 5 quote gaib.     Fear\n",
       "15  aku kurang tau kalo pesan yang kedua karena ju...  Neutral\n",
       "16  iya kalo udah biasa kek gitu win makanya hrs d...  Neutral\n",
       "17  tapi takut ketuaan juga di jalan ya kan wkwk w...     Fear\n",
       "18               iyaa mau makan yang enak yang banyak      Joy\n",
       "19  bahagia secukupnya, sedih seperlunya, mencinta...  Neutral"
      ]
     },
     "execution_count": 3,
     "metadata": {},
     "output_type": "execute_result"
    }
   ],
   "source": [
    "textData.head(20)"
   ]
  },
  {
   "cell_type": "code",
   "execution_count": 8,
   "metadata": {},
   "outputs": [
    {
     "name": "stdout",
     "output_type": "stream",
     "text": [
      "text memiliki bentuk data sebesar (7080, 2)\n"
     ]
    }
   ],
   "source": [
    "print('text memiliki bentuk data sebesar {}'.format(textData.shape))"
   ]
  }
 ],
 "metadata": {
  "kernelspec": {
   "display_name": "Python 3",
   "language": "python",
   "name": "python3"
  },
  "language_info": {
   "codemirror_mode": {
    "name": "ipython",
    "version": 3
   },
   "file_extension": ".py",
   "mimetype": "text/x-python",
   "name": "python",
   "nbconvert_exporter": "python",
   "pygments_lexer": "ipython3",
   "version": "3.10.9"
  },
  "orig_nbformat": 4,
  "vscode": {
   "interpreter": {
    "hash": "e7370f93d1d0cde622a1f8e1c04877d8463912d04d973331ad4851f04de6915a"
   }
  }
 },
 "nbformat": 4,
 "nbformat_minor": 2
}
